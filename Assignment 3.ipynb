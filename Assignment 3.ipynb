{
 "cells": [
  {
   "cell_type": "code",
   "execution_count": 18,
   "metadata": {},
   "outputs": [
    {
     "name": "stdout",
     "output_type": "stream",
     "text": [
      "Twinkle,Twinkle,little Star,\n",
      "        How I wonder what you are!\n",
      "              Up above the world so high,\n",
      "              Like a diamond in the sky.\n",
      "Twinkle,Twinkle,little Star,\n",
      "        How I wonder what you are!\n",
      "\n"
     ]
    }
   ],
   "source": [
    "print(\"Twinkle,Twinkle,little Star,\\n\" + \"        \" + \"How I wonder what you are!\\n\" + \"              \" + \n",
    "      \"Up above the world so high,\\n\" + \"              \" + \"Like a diamond in the sky.\\n\" \n",
    "     + \"Twinkle,Twinkle,little Star,\\n\"  + \"        \" + \"How I wonder what you are!\");\n"
   ]
  },
  {
   "cell_type": "code",
   "execution_count": 21,
   "metadata": {},
   "outputs": [
    {
     "name": "stdout",
     "output_type": "stream",
     "text": [
      "Python version is 3.8.5 \n"
     ]
    }
   ],
   "source": [
    "print(\"Python version is 3.8.5 \");"
   ]
  },
  {
   "cell_type": "code",
   "execution_count": 22,
   "metadata": {},
   "outputs": [
    {
     "name": "stdout",
     "output_type": "stream",
     "text": [
      "Current Date is 23-10-2021 & Time is 9.45 pm\n"
     ]
    }
   ],
   "source": [
    "print(\"Current Date is 23-10-2021 & Time is 9.45 pm\");"
   ]
  },
  {
   "cell_type": "code",
   "execution_count": 1,
   "metadata": {},
   "outputs": [
    {
     "name": "stdout",
     "output_type": "stream",
     "text": [
      "Enter Radius of circle4\n",
      "Area of cirle is 803.84\n"
     ]
    }
   ],
   "source": [
    "r = float(input(\"Enter Radius of circle\"));\n",
    "A = 3.14 * (r**r);\n",
    "print(\"Area of cirle is \" + str(A));"
   ]
  },
  {
   "cell_type": "code",
   "execution_count": 2,
   "metadata": {},
   "outputs": [
    {
     "name": "stdout",
     "output_type": "stream",
     "text": [
      "Enter your first nameShayan\n",
      "Enter your last nameAhmed\n",
      "Ahmed Shayan\n"
     ]
    }
   ],
   "source": [
    "first_name = input(\"Enter your first name\");\n",
    "last_name = input(\"Enter your last name\");\n",
    "print(last_name + \" \" + first_name);"
   ]
  },
  {
   "cell_type": "code",
   "execution_count": 3,
   "metadata": {},
   "outputs": [
    {
     "name": "stdout",
     "output_type": "stream",
     "text": [
      "Enter first number5\n",
      "Enter Second number5\n",
      "10\n"
     ]
    }
   ],
   "source": [
    "First = int(input(\"Enter first number\"));\n",
    "Second = int(input(\"Enter Second number\"));\n",
    "print(First + Second);"
   ]
  },
  {
   "cell_type": "code",
   "execution_count": 11,
   "metadata": {},
   "outputs": [
    {
     "name": "stdout",
     "output_type": "stream",
     "text": [
      "Enter first subject marks85\n",
      "Enter Second subject marks95\n",
      "Enter Third subject marks45\n",
      "Enter Fourth subject marks65\n",
      "Enter Fifth subject marks75\n",
      "73.0\n",
      "B Grade\n"
     ]
    }
   ],
   "source": [
    "Sub_1 = int(input(\"Enter first subject marks\"));\n",
    "Sub_2 = int(input(\"Enter Second subject marks\"));\n",
    "Sub_3 = int(input(\"Enter Third subject marks\"));\n",
    "Sub_4 = int(input(\"Enter Fourth subject marks\"));\n",
    "Sub_5 = int(input(\"Enter Fifth subject marks\"));\n",
    "Total_marks = Sub_1 + Sub_2 + Sub_3 + Sub_4 + Sub_5;\n",
    "Total = 500;\n",
    "percent = (Total_marks/Total)*100;\n",
    "print(percent);\n",
    "if percent <= 100 and percent >=80:\n",
    "    print(\"A Grade\");\n",
    "elif percent <= 79 and percent >=70:\n",
    "    print(\"B Grade\");\n",
    "elif percent <= 69 and percent >=860:\n",
    "    print(\"C Grade\");\n",
    "elif percent <= 59 and percent >=50:\n",
    "    print(\"D Grade\");\n",
    "else:\n",
    "    Print(\"Not promoted\");"
   ]
  },
  {
   "cell_type": "code",
   "execution_count": 20,
   "metadata": {},
   "outputs": [
    {
     "name": "stdout",
     "output_type": "stream",
     "text": [
      "Enter any number9\n",
      "It is odd\n"
     ]
    }
   ],
   "source": [
    "Num = int(input(\"Enter any number\"));\n",
    "check = Num%2;\n",
    "if check == 0:\n",
    "    print(\"It is even\");\n",
    "else:\n",
    "    print(\"It is odd\");"
   ]
  },
  {
   "cell_type": "code",
   "execution_count": 21,
   "metadata": {},
   "outputs": [
    {
     "name": "stdout",
     "output_type": "stream",
     "text": [
      "['Shayan', 'Ahmed', 'Syed', 'Bilal']\n"
     ]
    }
   ],
   "source": [
    "arr = [\"Shayan\", \"Ahmed\", \"Syed\" , \"Bilal\"];\n",
    "print(arr);"
   ]
  },
  {
   "cell_type": "code",
   "execution_count": 28,
   "metadata": {},
   "outputs": [
    {
     "name": "stdout",
     "output_type": "stream",
     "text": [
      "12\n"
     ]
    }
   ],
   "source": [
    "arr_2 = [1,5,6];\n",
    "sum = arr_2[0] + arr_2[1] + arr_2[2]\n",
    "print(sum);"
   ]
  },
  {
   "cell_type": "code",
   "execution_count": 27,
   "metadata": {},
   "outputs": [
    {
     "name": "stdout",
     "output_type": "stream",
     "text": [
      "8 is largets number\n"
     ]
    }
   ],
   "source": [
    "arr = [4,5,8];\n",
    "if arr[0] > arr[1] and arr[0] > arr[2]:\n",
    "    print(\"4 is largets numger\");\n",
    "elif arr[1] > arr[0] and arr[1] > arr[2]:\n",
    "    print(\"5 is largets numger\");\n",
    "elif arr[2] > arr[0] and arr[2] > arr[1]:\n",
    "    print(\"8 is largets number\");\n",
    "else:\n",
    "    Print(\"Nothing\");"
   ]
  },
  {
   "cell_type": "code",
   "execution_count": 30,
   "metadata": {},
   "outputs": [
    {
     "name": "stdout",
     "output_type": "stream",
     "text": [
      "1 1 2 3\n"
     ]
    }
   ],
   "source": [
    "a = [1,1,2,3,5,8,13,21,34,55,89];\n",
    "if a[0] < 5 or a[1] < 5 or a[2] < 5 or a[3] < 5 or a[4] < 5 or a[5] < 5 or a[6] < 5 or a[7] < 5 or a[8] < 5 or a[9] < 5 or a[10] < 5:\n",
    "    print(a[0],a[1],a[2],a[3]);\n",
    "\n"
   ]
  },
  {
   "cell_type": "code",
   "execution_count": null,
   "metadata": {},
   "outputs": [],
   "source": []
  }
 ],
 "metadata": {
  "kernelspec": {
   "display_name": "Python 3",
   "language": "python",
   "name": "python3"
  },
  "language_info": {
   "codemirror_mode": {
    "name": "ipython",
    "version": 3
   },
   "file_extension": ".py",
   "mimetype": "text/x-python",
   "name": "python",
   "nbconvert_exporter": "python",
   "pygments_lexer": "ipython3",
   "version": "3.8.5"
  }
 },
 "nbformat": 4,
 "nbformat_minor": 4
}
